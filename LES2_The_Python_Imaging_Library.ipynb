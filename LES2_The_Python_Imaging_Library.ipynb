{
 "cells": [
  {
   "cell_type": "markdown",
   "metadata": {
    "deletable": false,
    "editable": false,
    "run_control": {
     "frozen": true
    }
   },
   "source": [
    "# Les 2: The Python Imaging Library"
   ]
  },
  {
   "cell_type": "markdown",
   "metadata": {},
   "source": [
    "<div class=\"alert alert-info\" role=\"alert\">\n",
    "\n",
    "<b> Doel van dit college </b>\n",
    "    \n",
    "In dit notebook bekijken we hoe je afbeeldingen kan maken en bewerken in Python. We gaan ook een manier introduceren die het ons gemakkelijk maakt een stuk van het Euclidische vlak af te beelden naar afbeeldingen van verschillende\n",
    "groottes. Tenslotte zien jullie hoe je je code kan verpakken in een bestand dat je kan gebruiken in andere werkbladen. \n",
    "</div>\n",
    "\n",
    "<img src=cats.png width=80%>\n",
    "\n",
    "\n",
    "Het beste package voor afbeeldingen is de Python Imaging Library (PIL).\n",
    "Als je een afbeelding wilt inladen en bekijken moet je uit dit package de class <code>Image</code> importeren:\n",
    "\n",
    "<ul>\n",
    "    <li> Om een afbeelding in te laden gebruik je het commando\n",
    "        <code>im = Image.open('filename.png')</code>.\n",
    "        Dit leest de afbeelding filename.png in in de variabele <code>im</code>. \n",
    "    <li> Om de afbeelding <code>im</code> te laten zien gebruik je het commando \n",
    "        <code>im.show()</code>. In Jupyter Notebooks kun je ook code-blokken met de regel <code>im</code> eindigen om de afbeelding (maximaal één) direct in de notebook te weergeven. \n",
    "    <li> Je kan ook de afmetingen van een afbeelding bekijken via \n",
    "        <code>im.size</code>:\n",
    "        dit is een tuple dat de breedte en hoogte van de afbeelding bevat.\n",
    "    <li> Je kan ook een lege afbeelding maken:\n",
    "        <code>im = Image.new('RGBA', (400, 200), color = 'white' )</code>\n",
    "        geeft een lege afbeelding die 400 pixels breed is en 200 hoog en alle pixels zijn wit gekleurd.\n",
    "    <li>Om een afbeelding op te slaan gebruik je het commando\n",
    "        <code>im.save('filename.png')</code>.\n",
    "</ul>\n",
    "\n",
    "<div class=\"alert alert-success\">\n",
    "<b>Opdracht 1</b>\n",
    "    \n",
    "Importeer de packages <code>Image</code> en <code>ImageDraw</code> uit <code>PIL</code>. Laad de afbeelding  cat.png in en maak een nieuwe afbeelding  <code>im2</code> met dezelfde afmetingen die helemaal blauw is gekleurd. \n",
    "</div>"
   ]
  },
  {
   "cell_type": "code",
   "execution_count": null,
   "metadata": {},
   "outputs": [],
   "source": [
    "from PIL import Image, ImageDraw"
   ]
  },
  {
   "cell_type": "code",
   "execution_count": null,
   "metadata": {},
   "outputs": [],
   "source": [
    "im = Image.open('cat.png')\n"
   ]
  },
  {
   "cell_type": "code",
   "execution_count": null,
   "metadata": {},
   "outputs": [],
   "source": [
    "im.getpixel((0, 0))"
   ]
  },
  {
   "cell_type": "code",
   "execution_count": null,
   "metadata": {},
   "outputs": [],
   "source": [
    "im2 = Image.new('RGBA', (309, 307), color = 'blue' )\n",
    "im2"
   ]
  },
  {
   "cell_type": "markdown",
   "metadata": {},
   "source": [
    "## Spelen met kleuren en plaatjes\n",
    "\n",
    "Een afbeelding kan je beschouwen als een array met afmetingen <code>im.size</code>. Elke pixel wordt gerepresenteerd met een 4-tuple die de hoeveelheid rood, groen, blauw en de alpha (ondoorzichtigheid of opaciteit) van die pixel weergeeft op een schaal van 0 tot 255. Je kan deze waarde aflezen met <code>getpixel</code> en aanpassen met <code>putpixel</code>.\n",
    "\n",
    "<ul>\n",
    "    <li> <code>print(im2.getpixel((0, 0)))</code> geeft $(0, 0, 255, 255)$ omdat de pixel in de linkerbovenhoek blauw is en ondoorschijnend.\n",
    "    <li> <code>im2.putpixel((9, 9), (255, 0, 0, 128))</code> plaatst een halfdoorschijnende rode pixel in de linkerbovenhoek.\n",
    "</ul>\n",
    "\n",
    "<b>Let op!</b> Het is belangrijk om in de gaten te houden dat als je het pakket PIL gebruikt, de coördinaten anders werken dan in het gewone vlak. Meer bepaald als <code>im.size</code> $= (w,h)$, dan heeft\n",
    "de pixel in de linkerbovenhoek coördinaten $(0, 0)$, die in de rechterbovenhoek $(w-1, 0)$, die in de rechteronderhoek $(w-1, h-1)$ en die in de linkeronderhoek $(0, h-1)$.     \n",
    "\n",
    "\n",
    "<b>Merk op:</b>\n",
    "Het is ook mogelijk om te werken met RGB-afbeeldingen i.p.v. RGBA-afbeeldingen. In dat geval gebruik je <code>im = Image.new('RGB', (400, 200), color = 'white')</code> om een afbeelding te maken en moet je 3-tuples voor de kleuren gebruiken.\n",
    "\n",
    "<div class=\"alert alert-success\">\n",
    "<b>Opdracht 2</b>\n",
    "    \n",
    "Maak een gele afbeelding met afmetingen $(100,100)$ met een rode diagonaal (kleur alle punten met coordinaten $(x,x)$ rood).\n",
    " \n",
    "Laad de afbeelding cat.png in en vervang de witte achtergrond door een doorschijnende. Met andere woorden: elke pixel van de vorm $(255,255,255,255)$ moet een pixel $(255,255,255,0)$ worden. Kan je er ook voor zorgen dat de ogen wit blijven?\n",
    "</div>"
   ]
  },
  {
   "cell_type": "code",
   "execution_count": null,
   "metadata": {},
   "outputs": [],
   "source": [
    "im3 = Image.new('RGBA', (100, 100), color = 'yellow' )\n",
    "for i in range(100):\n",
    "    im3.putpixel((i, i), (255, 0, 0, 255))\n",
    "im3"
   ]
  },
  {
   "cell_type": "code",
   "execution_count": null,
   "metadata": {
    "scrolled": true
   },
   "outputs": [],
   "source": [
    "im4 = Image.open('cat.png')\n",
    "\n",
    "for i in range(309):\n",
    "    for j in range(307):\n",
    "        if im4.getpixel((i, j))[0] == 255 and im4.getpixel((i, j))[1] == 255 and im4.getpixel((i, j))[2] == 255:\n",
    "            im4.putpixel((i, j), (0, 0, 0, 100))\n",
    "            \n",
    "for i in range(40, 65):\n",
    "    for j in range(95, 120):\n",
    "        if im4.getpixel((i, j))[0] == 0:\n",
    "            im4.putpixel((i, j), (255, 255, 255, 255))\n",
    "            \n",
    "for i in range(85, 110):\n",
    "    for j in range(95, 120):\n",
    "        if im4.getpixel((i, j))[0] == 0:\n",
    "            im4.putpixel((i, j), (255, 255, 255, 255))\n",
    "im4"
   ]
  },
  {
   "cell_type": "code",
   "execution_count": null,
   "metadata": {},
   "outputs": [],
   "source": [
    "im4"
   ]
  },
  {
   "cell_type": "code",
   "execution_count": null,
   "metadata": {},
   "outputs": [],
   "source": [
    "# where are the eyes?\n",
    "\n",
    "im4.putpixel((97, 95), (0, 0, 0, 255))\n",
    "im4.putpixel((97, 120), (0, 0, 0, 255))\n",
    "im4.putpixel((110, 108), (0, 0, 0, 255))\n",
    "im4.putpixel((85, 108), (0, 0, 0, 255))\n",
    "\n",
    "im4.putpixel((52, 95), (0, 0, 0, 255))\n",
    "im4.putpixel((52, 120), (0, 0, 0, 255))\n",
    "im4.putpixel((65, 108), (0, 0, 0, 255))\n",
    "im4.putpixel((40, 108), (0, 0, 0, 255))\n",
    "\n",
    "im4"
   ]
  },
  {
   "cell_type": "markdown",
   "metadata": {},
   "source": [
    "## Plaatjes manipuleren\n",
    "\n",
    "\n",
    "In combinatie met numpy kan je ook operaties op afbeeldingen doen. Je kan van een afbeelding een ndarray maken met\n",
    "<code>ar = np.asarray(im)</code>.\n",
    "Omgekeerd kan je een array omzetten naar een afbeelding met\n",
    "<code>ar = Image.fromarray(ar)</code>.\n",
    "\n",
    "<div class=\"alert alert-success\">\n",
    "<b>Opdracht 3</b>\n",
    "    \n",
    "Hieronder staat een voorbeeld uitgewerkt waarbij in het prentje de rood-, groen- en blauwgehaltes uitgemiddeld worden zodat het prentje grijs wordt. Merk op dat we de functie <code>np.uint8</code> gebruiken om ervoor\n",
    "te zorgen dat de kleurwaarden integers zijn tussen 0 en 255.\n",
    "    \n",
    "Pas de code aan zodanig dat in het prentje het rood- en blauwgehalte van de kleuren wordt omgewisseld.\n",
    "</div>    "
   ]
  },
  {
   "cell_type": "code",
   "execution_count": null,
   "metadata": {},
   "outputs": [],
   "source": [
    "import numpy as np\n",
    "\n",
    "ar = np.asarray(Image.open('cat.png'))\n",
    "ar_new = np.array([[[0.33 * u[0] + 0.33 * u[1] * 0.33 * u[2],\n",
    "                    0.33 * u[0] + 0.33 * u[1] * 0.33 * u[2],\n",
    "                    0.33 * u[0] + 0.33 * u[1] * 0.33 * u[2],\n",
    "                    u[3]] for u in row] for row in ar])\n",
    "im = Image.fromarray(ar_new.astype(np.uint8))\n",
    "im"
   ]
  },
  {
   "cell_type": "code",
   "execution_count": null,
   "metadata": {},
   "outputs": [],
   "source": [
    "ar2 = np.asarray(Image.open('cat.png'))\n",
    "ar2_new = np.array([[[u[2], u[1], u[0], u[3]] for u in row] for row in ar2])\n",
    "im = Image.fromarray(ar2_new.astype(np.uint8))\n",
    "im"
   ]
  },
  {
   "cell_type": "markdown",
   "metadata": {
    "deletable": false,
    "editable": false,
    "run_control": {
     "frozen": true
    }
   },
   "source": [
    "Om op een afbeelding <code>im</code> lijnen te teken kan je de <code>ImageDraw</code> klasse gebruiken. \n",
    "Eerst maak je een <code>Draw</code>-object met\n",
    "    <code>draw = ImageDraw.Draw(im)</code>\n",
    "en daarna kan je de functie <code>line</code> gebruiken om lijnen te tekenen tussen pixelcoördinaten in een lijst.\n",
    "Het commando\n",
    "\n",
    "<code>img1.line([(10, 10), (10, 90), (90, 90), (90, 10), (10, 10)], fill = 'red', width = 1)</code> \n",
    "\n",
    "tekent een rood vierkant met dikte 1. \n",
    "Interessant om te weten is dat de coördinaten in dit geval geen gehele getallen hoeven te zijn (wat bij <code>getpixel</code> en <code>putpixel</code> wel het geval is). \n",
    "\n",
    "Je kan ook ellipsen en gevulde veelhoeken tekenen. \n",
    "\n",
    "<div class=\"alert alert-success\">\n",
    "<b>Opdracht 4</b>\n",
    "\n",
    "Kijk naar het voorbeeld hieronder om te zien hoe deze commando's werken.\n",
    "Gebruik deze commando's om een Mondriaan-achtige tekening te maken. \n",
    "</div>    "
   ]
  },
  {
   "cell_type": "code",
   "execution_count": null,
   "metadata": {},
   "outputs": [],
   "source": [
    "from PIL import ImageDraw\n",
    "\n",
    "im = Image.new('RGBA', (100, 100), color=(128, 255, 255, 255))\n",
    "draw = ImageDraw.Draw(im)\n",
    "draw.line([(10, 10), (10, 80), (90, 90), (90, 10), (10, 10)],\n",
    "          fill=\"yellow\",\n",
    "          width=3)\n",
    "draw.ellipse([(20, 30), (50, 60)], fill='blue', outline='orange', width=2)\n",
    "draw.polygon([(65, 30), (80, 40), (75, 60)],\n",
    "             fill=(128, 255, 128, 255),\n",
    "             outline='black')\n",
    "im"
   ]
  },
  {
   "cell_type": "markdown",
   "metadata": {},
   "source": [
    "## Van het vlak naar een canvas en terug\n",
    "\n",
    "\n",
    "Zoals eerder gezegd is de standaardinstelling in PIL dat de pixel in de linkerbovenhoek coördinaten $(0, 0)$ heeft. In het vervolg van dit vak zal het blijken dat het heel handig is om andere coördinaten toe te kennen aan\n",
    "de linkerbovenhoek en de rechteronderhoek van de prent. Op die manier kunnen we het stuk van het vlak dat op de afbeelding staat en de breedte en hoogte van de afbeelding apart wijzigen.\n",
    "\n",
    "\n",
    "<img src=kader.png width=80%>    \n",
    "\n",
    "<div class=\"alert alert-info\" role=\"alert\">\n",
    "\n",
    "<b>Wiskundige opdracht 1 (Een formule voor deze transformatie)</b>\n",
    "\n",
    "Bepaal de formule achter pixelco. Stel je hebt een punt $(x, y)$ op het vlak en je wilt dit afbeelden op de canvas rechts, welke transformatie doet dit? Tegelijkertijd wil je ook een schaling doen, namelijk dat het punt $(u_0, v_0)$ afgebeeld wordt op $(0, 0)$ en dat het punt $(u_1, v_1)$ afgebeeld wordt op $(w, h)$. Vul je antwoord hieronder (dubbelklik op dit cel om in Markdown te kunnen schrijven) met een korte toelichting van hoe je hebt gewerkt\n",
    "\n",
    "\\begin{align*}\n",
    "\\text{pixelco}: \\mathbb{R}^2 \\to \\mathbb{R}^2 :   \n",
    "\\begin{pmatrix}\n",
    "x\\\\\n",
    "y\n",
    "\\end{pmatrix}\n",
    "\\mapsto\n",
    "\\begin{pmatrix}\n",
    "??\\\\\n",
    "??\n",
    "\\end{pmatrix}\n",
    "\\end{align*}\n"
   ]
  },
  {
   "cell_type": "markdown",
   "metadata": {},
   "source": [
    "Om dit te doen gaan we een functie <code>pixelco(punt, frame, size)</code> maken die de coördinaten van een punt in het vlak omzet in de coördinaten van de overeenkomstige pixel in de afbeelding. \n",
    "\n",
    "De input voor deze functie bestaat uit drie delen: <code>point</code> stelt de coördinaten van het punt $(x, y)$ voor, \n",
    "de variabele <code>size</code> is een tuple $(w,h)$ met de breedte en hoogte van de prent in pixels en <code>frame</code> ziet er uit als <code>((u0, v0), (u1, v1))</code> waarbij $(u_0,v_0)$ de coördinaten van de linkerbovenhoek van de prent voorstelt en $(u_1,v_1)$ die van de rechteronderhoek.\n",
    "\n",
    "<div class=\"alert alert-success\">\n",
    "<b>Opdracht 5</b>\n",
    "    \n",
    "Implementeer de functie <code>pixelco(point, frame, size)</code> en schrijf ook een\n",
    "functie <code>pointco(pixel, frame, size)</code> die het omgekeerd doet: gegeven de coördinaten van de pixel berekent het die van het punt.\n",
    "</div>\n",
    "\n",
    "<b>Opmerking:</b>\n",
    "Voor een gegeven frame en size kan je <code>pixelco</code> en <code>pointco</code> beschouwen als twee functies die elkaars inverse zijn.\n",
    "\\begin{align*}\n",
    "\\mathtt{pixelco}:\\begin{pmatrix}x\\\\y\\end{pmatrix}\n",
    "\\mapsto\n",
    "\\begin{pmatrix}\\frac{w}{u_1-u_0}&0\\\\0&\\frac{h}{v_1-v_0}\\end{pmatrix}\n",
    "\\begin{pmatrix}x\\\\y\\end{pmatrix}+\n",
    "\\begin{pmatrix}\\frac{-u_0w}{u_1-u_0}\\\\\\frac{-v_0h}{v_1-v_0}\\end{pmatrix}\n",
    "\\hspace{2cm} \\mathtt{pointco}=\\mathtt{pixelco}^{-1}\n",
    "\\end{align*}\n",
    "\n",
    "<br></br>\n",
    "\n",
    "Deze functies zijn ook voorbeelden van <i>affiene transformaties</i> die jullie gezien hebben in Les1. In het hoorcollege morgen zullen we meer aandacht besteden aan de eigenschappen van zulke transformaties."
   ]
  },
  {
   "cell_type": "code",
   "execution_count": 1,
   "metadata": {},
   "outputs": [
    {
     "data": {
      "text/plain": [
       "(25.0, 75.0)"
      ]
     },
     "execution_count": 1,
     "metadata": {},
     "output_type": "execute_result"
    }
   ],
   "source": [
    "def pixelco(point, frame, size):\n",
    "    x, y = point[0], point[1]\n",
    "    u0, v0 = frame[0][0], frame[0][1]\n",
    "    u1, v1 = frame[1][0], frame[1][1]\n",
    "    w, h = size[0], size[1]\n",
    "    return ((x - u0) * w / (u1 - u0), (y - v0) * h / (v1 - v0))\n",
    "\n",
    "\n",
    "def pointco(point, frame, size):\n",
    "    a, b = point[0], point[1]\n",
    "    u0, u1 = frame[0][0], frame[0][1]\n",
    "    v0, v1 = frame[1][0], frame[1][1]\n",
    "    w, h = size[0], size[1]\n",
    "\n",
    "    return ((u1 - u0) / w * a + u0, (v1 - v0) / h * b + v0)\n",
    "\n",
    "\n",
    "frame = ((-1, 1), (1, -1))\n",
    "size = (200, 300)\n",
    "pixelco((-0.75, 0.5), frame, size)\n",
    "#pointco((25, 75), frame, size)"
   ]
  },
  {
   "cell_type": "code",
   "execution_count": null,
   "metadata": {},
   "outputs": [],
   "source": [
    "\"\"\"\n",
    "Uitwerking met gebruik van klasse aff\n",
    "\"\"\"\n",
    "\n",
    "from numpy import linalg as la\n",
    "import numpy as np\n",
    "from FunctiesWeek1 import *\n",
    "\n",
    "\n",
    "def pixelco_aff(frame, size):\n",
    "    u0, v0 = frame[0][0], frame[0][1]\n",
    "    u1, v1 = frame[1][0], frame[1][1]\n",
    "    w, h = size[0], size[1]\n",
    "    return aff([[w / (u1 - u0), 0], [0, h / (v1 - v0)]],\n",
    "               [-u0 * w / (u1 - u0), -v0 * h / (v1 - v0)])\n",
    "\n",
    "\n",
    "def pointco_aff(frame, size):\n",
    "    return pixelco_aff(frame, size).inverse()"
   ]
  },
  {
   "cell_type": "code",
   "execution_count": null,
   "metadata": {},
   "outputs": [],
   "source": [
    "lijst = [(43, 75), (40, 30), (80, 18),\n",
    "         (100, 4), (130, 13), (140, 34), (133, 75), (80, 135), (70, 168),\n",
    "         (80, 190), (103, 154), (165, 153), (243, 205), (288, 300), (240, 260),\n",
    "         (145, 260), (144, 483), (100, 483), (133, 468), (133, 258), (66, 240),\n",
    "         (39, 190), (43, 141), (112, 50), (80, 40)]\n",
    "lijst2 = [pointco(punt, ((-2, 2), (2, -2)), (200, 200)) for punt in lijst]\n",
    "lijst2"
   ]
  },
  {
   "cell_type": "markdown",
   "metadata": {},
   "source": [
    "<div class=\"alert alert-warning\">\n",
    "\n",
    "<b> Test je functie</b>\n",
    "    \n",
    "Voor de volgende invoer\n",
    "<code>frame = ((-1, 1), (1, -1)), size = (200, 300)</code>\n",
    "zou je voor <code>pixelco((-0.75, 0.5), frame, size)</code> de output <code>(25.0, 75.0)</code> moeten krijgen. \n",
    "    \n",
    "Omdat de functies elkaars inverse zijn, komt er als het goed is bij <code>pointco((25, 75), frame, size)</code> dus <code>(-0.75, 0.5)</code> als output uit.\n",
    "</div>"
   ]
  },
  {
   "cell_type": "markdown",
   "metadata": {},
   "source": [
    "<div class=\"alert alert-success\">\n",
    "\n",
    "<b>Opdracht 6</b>\n",
    "    \n",
    "Maak een functie <code>draw_list(lijst, frame, size)</code> die, gegeven een lijst met punten, een afbeelding met afmetingen <code>size</code> maakt en returnt met daarin een polygon met die punten als hoekpunten. Gebruik je functie <code>pixelco</code> om de coordinaten van de punten om te zetten in pixels in de afbeelding.\n",
    "    \n",
    "Als je functie werkt dan geeft <code>draw_list(LIST1, ((-2, 2), (2, -2)), (200, 200))</code> een vierkant met zijdes van 100 pixels in het midden van een prent die 200x200 pixels is. Welke figuur geeft de tweede lijst? Maak een opgevulde versie met de juiste keur. \n",
    "</div>\n"
   ]
  },
  {
   "cell_type": "code",
   "execution_count": null,
   "metadata": {},
   "outputs": [],
   "source": [
    "def draw_list(lijst, frame, size):\n",
    "    im = Image.new('RGBA', size, color='white')\n",
    "    draw = ImageDraw.Draw(im)\n",
    "    lijst2 = [pixelco(punt, frame, size) for punt in lijst]\n",
    "    draw.line(lijst2, fill=\"pink\", width=3)\n",
    "    return im\n",
    "\n",
    "\n",
    "def draw_list_pixels(lijst, frame, size):\n",
    "    im = Image.new('RGBA', size, color='white')\n",
    "    draw = ImageDraw.Draw(im)\n",
    "    draw.polygon(lijst, fill=\"pink\")\n",
    "    return im"
   ]
  },
  {
   "cell_type": "code",
   "execution_count": null,
   "metadata": {},
   "outputs": [],
   "source": [
    "LIST1 = [(-1, -1), (1, -1), (1, 1), (-1, 1), (-1, -1)]\n",
    "draw_list(LIST1, ((-2, 2), (2, -2)), (400, 400))"
   ]
  },
  {
   "cell_type": "code",
   "execution_count": null,
   "metadata": {},
   "outputs": [],
   "source": [
    "LIST2 = [(43, 75), (40, 30), (80, 18),\n",
    "         (100, 4), (130, 13), (140, 34), (133, 75), (80, 135), (70, 168),\n",
    "         (80, 190), (103, 154), (165, 153), (243, 205), (288, 300), (240, 260),\n",
    "         (145, 260), (144, 483), (100, 483), (133, 468), (133, 258), (66, 240),\n",
    "         (39, 190), (43, 141), (112, 50), (80, 40)]\n",
    "\n",
    "LIST3 = [(-1.1400000000000001, 0.5), (-1.2, 1.4),\n",
    "         (-0.3999999999999999, 1.6400000000000001), (0.0, 1.92),\n",
    "         (0.6000000000000001, 1.74), (0.8000000000000003, 1.3199999999999998),\n",
    "         (0.6600000000000001, 0.5), (-0.3999999999999999, -0.7000000000000002),\n",
    "         (-0.5999999999999999, -1.3599999999999999),\n",
    "         (-0.3999999999999999, -1.8000000000000003),\n",
    "         (0.06000000000000005, -1.08), (1.3000000000000003, -1.06),\n",
    "         (2.8600000000000003, -2.0999999999999996), (3.76, -4.0), (2.8, -3.2),\n",
    "         (0.8999999999999999, -3.2), (0.8799999999999999, -7.66), (0.0, -7.66),\n",
    "         (0.6600000000000001, -7.359999999999999), (0.6600000000000001, -3.16),\n",
    "         (-0.6799999999999999, -2.8), (-1.22, -1.8000000000000003),\n",
    "         (-1.1400000000000001, -0.8199999999999998), (0.2400000000000002, 1.0),\n",
    "         (-0.3999999999999999, 1.2)]"
   ]
  },
  {
   "cell_type": "code",
   "execution_count": null,
   "metadata": {},
   "outputs": [],
   "source": [
    "draw_list_pixels(LIST2, frame, size)"
   ]
  },
  {
   "cell_type": "markdown",
   "metadata": {
    "deletable": false,
    "editable": false,
    "run_control": {
     "frozen": true
    }
   },
   "source": [
    "<div class=\"alert alert-success\">\n",
    "\n",
    "<b>Opdracht 7</b>\n",
    "\n",
    "Beschouw de affiene transformatie <code>TRANS4 = aff([[.5, -.87], [.87, .5]], [0, 0])</code>. Gebruik de samenstelling van transformaties uit Les1 om deze twee, drie en vier keer toe te passen op de elementen van <code>LIST1 = [(-1, -1), (1, -1), (1, 1), (-1, 1)]</code> (of een andere lijst naar keuze).\n",
    "    \n",
    "Maak een tekening van de resultaten met de functie <code>draw_list</code> uit deze les."
   ]
  },
  {
   "cell_type": "code",
   "execution_count": null,
   "metadata": {},
   "outputs": [],
   "source": [
    "TRANS4 = aff([[.5, -.87], [.87, .5]], [0, 0])\n",
    "lijst = LIST3\n",
    "draw_list(lijst, ((-4, 4), (4, -8)), (200, 200))"
   ]
  },
  {
   "cell_type": "code",
   "execution_count": null,
   "metadata": {},
   "outputs": [],
   "source": [
    "lijst = [TRANS4 * point for point in lijst]\n",
    "draw_list(lijst, ((-4, 4), (4, -8)), (200, 200))"
   ]
  },
  {
   "cell_type": "markdown",
   "metadata": {},
   "source": [
    "\n",
    "<div style=\"background-color: #ffcc66 ; padding: 10px;\">\n",
    "\n",
    "<b>Begripsopdracht (goed om gaan met punten en pixels)</b>\n",
    "\n",
    "In deze Notebook hebben jullie de twee functies <code>pixelco</code> en <code>pointco</code> gemaakt. Kijk nog een keer terug naar opdrachten 5 en 6 en de lijsten die we daar geven. Begrijpen jullie waarom deze twee functies nuttig en nodig zijn? Begrijp je het nog niet? Neem even een pauze en kom over een uurtje terug, ga hierover nadenken en lees Sectie 1.3 nog een keer door. Schrijf hieronder in eigen woorden waarom deze twee functies nodig zijn?"
   ]
  },
  {
   "cell_type": "markdown",
   "metadata": {},
   "source": [
    "<i>Dubbelklik hier en schrijf je reactie.</i>"
   ]
  },
  {
   "cell_type": "markdown",
   "metadata": {
    "deletable": false,
    "editable": false,
    "run_control": {
     "frozen": true
    }
   },
   "source": [
    "## Functies verzamelen in je Spyder-bestand\n",
    "\n",
    "\n",
    "<div class=\"alert alert-info\" role=\"alert\">\n",
    "<b>Opdracht</b>\n",
    "<ul>\n",
    "<li> Kopieer de code voor de functies <code>draw_list</code>, <code>pixelco</code> en <code>pointco</code> in je Spyder bestand <code>week1.py</code>. Sla dit bestand in hetzelfde directory als deze notebook. </li>\n",
    "    <li> Post je zelfgemaakte Mondriaan op canvas.</li>\n",
    "    <li> Post een afbeelding van een lijst die je getransformeerd hebt via verschillende affiene transformaties op Canvas. </li>\n",
    "</ul>\n",
    "</div>\n",
    "\n"
   ]
  }
 ],
 "metadata": {
  "kernelspec": {
   "display_name": "Python 3",
   "language": "python",
   "name": "python3"
  },
  "language_info": {
   "codemirror_mode": {
    "name": "ipython",
    "version": 3
   },
   "file_extension": ".py",
   "mimetype": "text/x-python",
   "name": "python",
   "nbconvert_exporter": "python",
   "pygments_lexer": "ipython3",
   "version": "3.7.3"
  },
  "toc": {
   "base_numbering": 1,
   "nav_menu": {},
   "number_sections": true,
   "sideBar": true,
   "skip_h1_title": false,
   "title_cell": "Table of Contents",
   "title_sidebar": "Contents",
   "toc_cell": false,
   "toc_position": {},
   "toc_section_display": true,
   "toc_window_display": false
  }
 },
 "nbformat": 4,
 "nbformat_minor": 4
}
